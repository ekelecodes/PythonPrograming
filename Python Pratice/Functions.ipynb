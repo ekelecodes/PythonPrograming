{
 "cells": [
  {
   "cell_type": "markdown",
   "id": "f8f031c5-551c-4a85-8932-482745c85fdc",
   "metadata": {},
   "source": [
    "<h1>Functions</h1>"
   ]
  },
  {
   "cell_type": "code",
   "execution_count": 42,
   "id": "a0ad2466-4d7e-428e-8b4c-901f0d0630d7",
   "metadata": {},
   "outputs": [],
   "source": [
    "def first_func(parameter):\n",
    "    print('First Function')"
   ]
  },
  {
   "cell_type": "code",
   "execution_count": 44,
   "id": "479f43a1-ee2a-4d57-8458-46ab4a5920a3",
   "metadata": {},
   "outputs": [
    {
     "name": "stdout",
     "output_type": "stream",
     "text": [
      "First Function\n"
     ]
    }
   ],
   "source": [
    "first_func(0)"
   ]
  },
  {
   "cell_type": "code",
   "execution_count": 12,
   "id": "8077dc07-ba42-4b00-8c1e-d537ab92d6ec",
   "metadata": {},
   "outputs": [],
   "source": [
    "def number_squared(number):\n",
    "    print(number**2)"
   ]
  },
  {
   "cell_type": "code",
   "execution_count": 14,
   "id": "a20478d5-9047-4cfb-8dd3-25e4fc2d9dee",
   "metadata": {},
   "outputs": [
    {
     "name": "stdout",
     "output_type": "stream",
     "text": [
      "49\n"
     ]
    }
   ],
   "source": [
    "number_squared(7)"
   ]
  },
  {
   "cell_type": "code",
   "execution_count": 16,
   "id": "37638d9c-a1a8-401b-a869-e647818c9c98",
   "metadata": {},
   "outputs": [],
   "source": [
    "def number_squared_cust(number,power):\n",
    "    print(number**power)"
   ]
  },
  {
   "cell_type": "code",
   "execution_count": 22,
   "id": "6f282e4a-daa2-49f4-b615-3cd89207f432",
   "metadata": {},
   "outputs": [
    {
     "name": "stdout",
     "output_type": "stream",
     "text": [
      "216\n"
     ]
    }
   ],
   "source": [
    "number_squared_cust(6,3)"
   ]
  },
  {
   "cell_type": "code",
   "execution_count": 38,
   "id": "fe162f03-280e-44c3-a5a6-b77e4610985c",
   "metadata": {},
   "outputs": [],
   "source": [
    "\n",
    "args_tuple = (6,7,8,11,12)\n",
    "\n",
    "def args_number(*number):\n",
    "    print(number[0]*number[1])"
   ]
  },
  {
   "cell_type": "code",
   "execution_count": 40,
   "id": "3e4333da-cfc0-4cd8-9910-db6b8e20c030",
   "metadata": {},
   "outputs": [
    {
     "name": "stdout",
     "output_type": "stream",
     "text": [
      "42\n"
     ]
    }
   ],
   "source": [
    "args(*args_tuple)"
   ]
  },
  {
   "cell_type": "code",
   "execution_count": 54,
   "id": "bb82de36-aa1c-4a28-bd13-50d91c3d5271",
   "metadata": {},
   "outputs": [],
   "source": [
    "args =(1,2,3,4,5)\n",
    "\n",
    "def add(*number):\n",
    "    print(sum(args))"
   ]
  },
  {
   "cell_type": "code",
   "execution_count": 56,
   "id": "cd123c9d-b221-43a0-bdd7-8e8458c93d44",
   "metadata": {},
   "outputs": [
    {
     "name": "stdout",
     "output_type": "stream",
     "text": [
      "15\n"
     ]
    }
   ],
   "source": [
    "add(*args)"
   ]
  },
  {
   "cell_type": "markdown",
   "id": "e7b13abd-7bde-425d-b9a2-79a07277fc31",
   "metadata": {},
   "source": [
    "<h2>Return statement</h2>"
   ]
  },
  {
   "cell_type": "code",
   "execution_count": 69,
   "id": "dd02178d-753b-4c02-880c-57bbf85b06b6",
   "metadata": {},
   "outputs": [],
   "source": [
    "def sum(number) :\n",
    "    return(number**2)\n"
   ]
  },
  {
   "cell_type": "code",
   "execution_count": 71,
   "id": "401ae412-395c-487e-9b34-9cf7d707bda3",
   "metadata": {},
   "outputs": [
    {
     "name": "stdout",
     "output_type": "stream",
     "text": [
      "16\n"
     ]
    }
   ],
   "source": [
    "print(sum(4))"
   ]
  },
  {
   "cell_type": "code",
   "execution_count": 73,
   "id": "e7ed764d-8e7f-438a-9fa0-0c7811ba9dc5",
   "metadata": {},
   "outputs": [],
   "source": [
    "def display_info(**kwargs):\n",
    "    return kwargs\n"
   ]
  },
  {
   "cell_type": "code",
   "execution_count": 75,
   "id": "728941b1-3627-4979-87f6-34fd5a79fd4a",
   "metadata": {},
   "outputs": [
    {
     "name": "stdout",
     "output_type": "stream",
     "text": [
      "{'name': 'rex', 'age': 25}\n"
     ]
    }
   ],
   "source": [
    "print(display_info(name= 'rex', age = 25))"
   ]
  },
  {
   "cell_type": "code",
   "execution_count": null,
   "id": "c67ee50e-6a40-4b6a-b57f-d2749b451674",
   "metadata": {},
   "outputs": [],
   "source": []
  }
 ],
 "metadata": {
  "kernelspec": {
   "display_name": "Python 3 (ipykernel)",
   "language": "python",
   "name": "python3"
  },
  "language_info": {
   "codemirror_mode": {
    "name": "ipython",
    "version": 3
   },
   "file_extension": ".py",
   "mimetype": "text/x-python",
   "name": "python",
   "nbconvert_exporter": "python",
   "pygments_lexer": "ipython3",
   "version": "3.12.7"
  }
 },
 "nbformat": 4,
 "nbformat_minor": 5
}
