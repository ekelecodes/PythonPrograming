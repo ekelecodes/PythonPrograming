{
 "cells": [
  {
   "cell_type": "code",
   "execution_count": 3,
   "id": "2a6cad2c-8c4e-4bf4-a282-89e0dafd070d",
   "metadata": {},
   "outputs": [
    {
     "name": "stdout",
     "output_type": "stream",
     "text": [
      "{33, 2, 5, 6, 7, 8, 9, 22, 24}\n"
     ]
    }
   ],
   "source": [
    "daily_pints_log = {2,5,6,7,8,9,22,33,24}\n",
    "\n",
    "print(daily_pints_log)"
   ]
  },
  {
   "cell_type": "code",
   "execution_count": 17,
   "id": "fc016e1f-0c82-44e1-a926-d273906409fa",
   "metadata": {},
   "outputs": [
    {
     "name": "stdout",
     "output_type": "stream",
     "text": [
      "{3, 4, 5, 7, 10, 44, 12, 22, 23, 60}\n"
     ]
    }
   ],
   "source": [
    "daily_pints ={3,22,4,44,5,7,60,23,10,12}\n",
    "\n",
    "print(daily_pints)"
   ]
  },
  {
   "cell_type": "code",
   "execution_count": 15,
   "id": "897fd5e2-a06a-4608-8a76-57f60e9ad840",
   "metadata": {},
   "outputs": [
    {
     "name": "stdout",
     "output_type": "stream",
     "text": [
      "{33, 2, 3, 4, 5, 6, 7, 8, 9, 10, 44, 12, 22, 23, 24, 60}\n"
     ]
    }
   ],
   "source": [
    "print(daily_pints_log | daily_pints)"
   ]
  },
  {
   "cell_type": "code",
   "execution_count": 19,
   "id": "3cea8e45-be27-45f3-8c9f-c9a913b8706d",
   "metadata": {},
   "outputs": [
    {
     "name": "stdout",
     "output_type": "stream",
     "text": [
      "{5, 22, 7}\n"
     ]
    }
   ],
   "source": [
    "print(daily_pints_log & daily_pints)"
   ]
  },
  {
   "cell_type": "code",
   "execution_count": 21,
   "id": "d07ab402-2517-45ec-96a3-06916a1ef6fc",
   "metadata": {},
   "outputs": [
    {
     "name": "stdout",
     "output_type": "stream",
     "text": [
      "{33, 2, 6, 8, 9, 24}\n"
     ]
    }
   ],
   "source": [
    "print(daily_pints_log - daily_pints)"
   ]
  },
  {
   "cell_type": "code",
   "execution_count": 23,
   "id": "2ee8ad3b-f852-42f7-91da-b9edb6b88c3c",
   "metadata": {},
   "outputs": [
    {
     "name": "stdout",
     "output_type": "stream",
     "text": [
      "{3, 4, 10, 12, 44, 23, 60}\n"
     ]
    }
   ],
   "source": [
    "print(daily_pints - daily_pints_log)\n"
   ]
  },
  {
   "cell_type": "code",
   "execution_count": 25,
   "id": "a466466a-a67f-4b64-bf2d-6aecf8a7ce8c",
   "metadata": {},
   "outputs": [
    {
     "name": "stdout",
     "output_type": "stream",
     "text": [
      "{33, 2, 3, 4, 6, 8, 9, 10, 44, 12, 23, 24, 60}\n"
     ]
    }
   ],
   "source": [
    "print(daily_pints ^ daily_pints_log)"
   ]
  },
  {
   "cell_type": "code",
   "execution_count": 29,
   "id": "4e054a56-d3e5-4eda-8eac-8be26a07c928",
   "metadata": {},
   "outputs": [
    {
     "name": "stdout",
     "output_type": "stream",
     "text": [
      "{'name': 'Rex King', 'Weekly Intake': 5, 'Favorite Show': ['Breaking Bad', 'Prison Break']}\n"
     ]
    }
   ],
   "source": [
    "dict_set = {'name': 'Rex King', 'Weekly Intake' : 5, 'Favorite Show' : ['Breaking Bad', 'Prison Break'] }\n",
    "\n",
    "print(dict_set)"
   ]
  },
  {
   "cell_type": "code",
   "execution_count": 31,
   "id": "0eb169b0-762e-4071-84e1-5b6f4d0d4ec6",
   "metadata": {},
   "outputs": [
    {
     "data": {
      "text/plain": [
       "dict"
      ]
     },
     "execution_count": 31,
     "metadata": {},
     "output_type": "execute_result"
    }
   ],
   "source": [
    "type(dict_set)"
   ]
  },
  {
   "cell_type": "code",
   "execution_count": 35,
   "id": "e017b5ff-a238-4817-af53-9e50e1b89d11",
   "metadata": {},
   "outputs": [
    {
     "data": {
      "text/plain": [
       "dict_values(['Rex King', 5, ['Breaking Bad', 'Prison Break']])"
      ]
     },
     "execution_count": 35,
     "metadata": {},
     "output_type": "execute_result"
    }
   ],
   "source": [
    "dict_set.values()"
   ]
  },
  {
   "cell_type": "code",
   "execution_count": 37,
   "id": "ef2d5f4f-c164-41cd-bca1-615d50e06a1c",
   "metadata": {},
   "outputs": [
    {
     "data": {
      "text/plain": [
       "dict_keys(['name', 'Weekly Intake', 'Favorite Show'])"
      ]
     },
     "execution_count": 37,
     "metadata": {},
     "output_type": "execute_result"
    }
   ],
   "source": [
    "dict_set.keys()"
   ]
  },
  {
   "cell_type": "code",
   "execution_count": 39,
   "id": "040f801f-ce1d-4c1b-a7b5-477238fd51d3",
   "metadata": {},
   "outputs": [
    {
     "data": {
      "text/plain": [
       "dict_items([('name', 'Rex King'), ('Weekly Intake', 5), ('Favorite Show', ['Breaking Bad', 'Prison Break'])])"
      ]
     },
     "execution_count": 39,
     "metadata": {},
     "output_type": "execute_result"
    }
   ],
   "source": [
    "dict_set.items()"
   ]
  },
  {
   "cell_type": "code",
   "execution_count": 43,
   "id": "0d6a91c2-0a8b-4527-96e3-46de2c05c873",
   "metadata": {},
   "outputs": [
    {
     "name": "stdout",
     "output_type": "stream",
     "text": [
      "{'name': 'Ekele Nwaka', 'Weekly Intake': 20, 'Favorite Show': ['Breaking Bad', 'Prison Break'], 'Sport': ['Football', 'Tennis']}\n"
     ]
    }
   ],
   "source": [
    "dict_set.update({'name': 'Ekele Nwaka', 'Weekly Intake' : 20, 'Sport' : ['Football','Tennis']})\n",
    "\n",
    "print(dict_set)"
   ]
  },
  {
   "cell_type": "code",
   "execution_count": null,
   "id": "f877904f-686d-431e-ae7f-f6b28595c9bc",
   "metadata": {},
   "outputs": [],
   "source": []
  }
 ],
 "metadata": {
  "kernelspec": {
   "display_name": "Python 3 (ipykernel)",
   "language": "python",
   "name": "python3"
  },
  "language_info": {
   "codemirror_mode": {
    "name": "ipython",
    "version": 3
   },
   "file_extension": ".py",
   "mimetype": "text/x-python",
   "name": "python",
   "nbconvert_exporter": "python",
   "pygments_lexer": "ipython3",
   "version": "3.12.7"
  }
 },
 "nbformat": 4,
 "nbformat_minor": 5
}
