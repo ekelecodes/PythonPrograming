{
 "cells": [
  {
   "cell_type": "markdown",
   "id": "edac3e78-767b-412d-a276-632047cd2088",
   "metadata": {},
   "source": [
    "Membership Operator"
   ]
  },
  {
   "cell_type": "code",
   "execution_count": 4,
   "id": "4e1fbe3f-9579-443b-b480-0fcb76720ce5",
   "metadata": {},
   "outputs": [
    {
     "data": {
      "text/plain": [
       "True"
      ]
     },
     "execution_count": 4,
     "metadata": {},
     "output_type": "execute_result"
    }
   ],
   "source": [
    "ice_cream = 'I love ice cream'\n",
    "\n",
    "'love' in ice_cream"
   ]
  },
  {
   "cell_type": "code",
   "execution_count": 6,
   "id": "441d9845-b990-4feb-a0dc-aef087dadb72",
   "metadata": {},
   "outputs": [
    {
     "data": {
      "text/plain": [
       "True"
      ]
     },
     "execution_count": 6,
     "metadata": {},
     "output_type": "execute_result"
    }
   ],
   "source": [
    "scoop = [1,2,3,4,5,6]\n",
    "wanted_scoop = 8\n",
    "\n",
    "wanted_scoop not in scoop"
   ]
  },
  {
   "cell_type": "markdown",
   "id": "771d9982-6a90-420c-8e40-36ebb2bc29ab",
   "metadata": {},
   "source": [
    "If-Elif-Else Statement"
   ]
  },
  {
   "cell_type": "code",
   "execution_count": 11,
   "id": "d78f1b2b-c771-4cb9-baeb-818e3d8fde2d",
   "metadata": {},
   "outputs": [
    {
     "name": "stdout",
     "output_type": "stream",
     "text": [
      "perfect\n"
     ]
    }
   ],
   "source": [
    "if (25 > 10) :\n",
    "    print('perfect')"
   ]
  },
  {
   "cell_type": "code",
   "execution_count": 15,
   "id": "ba3e3d09-4ae4-4299-bc30-a5f64f1527a4",
   "metadata": {},
   "outputs": [
    {
     "name": "stdout",
     "output_type": "stream",
     "text": [
      "impossible\n"
     ]
    }
   ],
   "source": [
    "if (25 < 10) :\n",
    "    print('perfect')\n",
    "else : \n",
    "    print('impossible')"
   ]
  },
  {
   "cell_type": "code",
   "execution_count": 17,
   "id": "b1ec33c8-85fa-462b-8cc2-4b80ab62a74a",
   "metadata": {},
   "outputs": [
    {
     "name": "stdout",
     "output_type": "stream",
     "text": [
      "Elif Worked\n"
     ]
    }
   ],
   "source": [
    "if (25 < 10) :\n",
    "    print('perfect')\n",
    "elif (25 <30) :\n",
    "    print('Elif Worked')\n",
    "else : \n",
    "    print('impossible')"
   ]
  },
  {
   "cell_type": "code",
   "execution_count": null,
   "id": "0b9c4127-beaf-4d73-8f08-ec1531c08569",
   "metadata": {},
   "outputs": [],
   "source": []
  }
 ],
 "metadata": {
  "kernelspec": {
   "display_name": "Python 3 (ipykernel)",
   "language": "python",
   "name": "python3"
  },
  "language_info": {
   "codemirror_mode": {
    "name": "ipython",
    "version": 3
   },
   "file_extension": ".py",
   "mimetype": "text/x-python",
   "name": "python",
   "nbconvert_exporter": "python",
   "pygments_lexer": "ipython3",
   "version": "3.12.7"
  }
 },
 "nbformat": 4,
 "nbformat_minor": 5
}
