{
 "cells": [
  {
   "cell_type": "markdown",
   "id": "4a51300d-c884-4254-855d-dc0b1198963e",
   "metadata": {},
   "source": [
    "For Loops"
   ]
  },
  {
   "cell_type": "code",
   "execution_count": 4,
   "id": "84a34fd1-f03f-4081-b688-93e75212fb0e",
   "metadata": {},
   "outputs": [],
   "source": [
    "integers = [1,2,3,4,5,6]\n",
    " "
   ]
  },
  {
   "cell_type": "code",
   "execution_count": 6,
   "id": "4669005d-9839-445c-affe-53dad34e9a4f",
   "metadata": {},
   "outputs": [
    {
     "name": "stdout",
     "output_type": "stream",
     "text": [
      "1\n",
      "2\n",
      "3\n",
      "4\n",
      "5\n",
      "6\n"
     ]
    }
   ],
   "source": [
    "for number in integers :\n",
    "    print(number)"
   ]
  },
  {
   "cell_type": "code",
   "execution_count": 8,
   "id": "53f5257c-121b-4eb5-9082-b4ee67a261f6",
   "metadata": {},
   "outputs": [
    {
     "name": "stdout",
     "output_type": "stream",
     "text": [
      "Yes\n",
      "Yes\n",
      "Yes\n",
      "Yes\n",
      "Yes\n",
      "Yes\n"
     ]
    }
   ],
   "source": [
    "for number in integers :\n",
    "    print('Yes')"
   ]
  },
  {
   "cell_type": "code",
   "execution_count": 10,
   "id": "caabe960-7fff-4afb-9fdc-17a375ef9e2a",
   "metadata": {},
   "outputs": [
    {
     "name": "stdout",
     "output_type": "stream",
     "text": [
      "2\n",
      "4\n",
      "6\n",
      "8\n",
      "10\n",
      "12\n"
     ]
    }
   ],
   "source": [
    "integers = [1,2,3,4,5,6]\n",
    "\n",
    "for number in integers :\n",
    "    print(number * 2)\n"
   ]
  },
  {
   "cell_type": "markdown",
   "id": "28733f74-af0c-4e06-bf1d-37f36e53fd4e",
   "metadata": {},
   "source": [
    "For A Dictionary"
   ]
  },
  {
   "cell_type": "code",
   "execution_count": 21,
   "id": "a6151412-967f-40f6-b911-686f10ac8e68",
   "metadata": {},
   "outputs": [
    {
     "name": "stdout",
     "output_type": "stream",
     "text": [
      "{'name': 'Nwaka Ekele', 'Weight': 60, 'Job': ['Data analyst', 'Software Developer']}\n"
     ]
    }
   ],
   "source": [
    "profile_dict = {'name' : 'Nwaka Ekele','Weight' : 60, 'Job' : ['Data analyst', 'Software Developer']}\n",
    "\n",
    "print(profile_dict)\n"
   ]
  },
  {
   "cell_type": "code",
   "execution_count": 27,
   "id": "f1a1a130-a8b1-4b72-a7d3-259c35b843d2",
   "metadata": {},
   "outputs": [],
   "source": [
    "profile_dict = {'name' : 'Nwaka Ekele','Weight' : 60, 'Job' : ['Data analyst', 'Software Developer']}"
   ]
  },
  {
   "cell_type": "code",
   "execution_count": 31,
   "id": "537ef26c-3ea3-4e7c-9943-c58da75fb687",
   "metadata": {},
   "outputs": [
    {
     "name": "stdout",
     "output_type": "stream",
     "text": [
      "Nwaka Ekele\n",
      "60\n",
      "['Data analyst', 'Software Developer']\n"
     ]
    }
   ],
   "source": [
    " for profile in profile_dict.values() :\n",
    "     print(profile)"
   ]
  },
  {
   "cell_type": "code",
   "execution_count": 35,
   "id": "62fbb073-f943-4a88-88e6-2771796b08b0",
   "metadata": {},
   "outputs": [
    {
     "name": "stdout",
     "output_type": "stream",
     "text": [
      "name -> Nwaka Ekele\n",
      "Weight -> 60\n",
      "Job -> ['Data analyst', 'Software Developer']\n"
     ]
    }
   ],
   "source": [
    " for profile, value in profile_dict.items() :\n",
    "     print(profile, '->', value)"
   ]
  },
  {
   "cell_type": "raw",
   "id": "88207d95-725b-4dbe-9d9a-8ee1c99b13c8",
   "metadata": {},
   "source": [
    "Nested For Loops"
   ]
  },
  {
   "cell_type": "code",
   "execution_count": 65,
   "id": "2c7cde99-7f4f-4e99-a9f1-c60c426eff9c",
   "metadata": {},
   "outputs": [],
   "source": [
    "flavors = ['vanilla', 'chocolate', 'cookie dough']\n",
    "toppings = ['oreos', 'mashmellows', 'hot fudge']\n",
    "\n",
    " "
   ]
  },
  {
   "cell_type": "code",
   "execution_count": 71,
   "id": "4791b4d7-6e00-442d-9f3d-141867ea63ab",
   "metadata": {},
   "outputs": [
    {
     "name": "stdout",
     "output_type": "stream",
     "text": [
      "vanilla topped with oreos\n",
      "vanilla topped with mashmellows\n",
      "vanilla topped with hot fudge\n",
      "chocolate topped with oreos\n",
      "chocolate topped with mashmellows\n",
      "chocolate topped with hot fudge\n",
      "cookie dough topped with oreos\n",
      "cookie dough topped with mashmellows\n",
      "cookie dough topped with hot fudge\n"
     ]
    }
   ],
   "source": [
    "for one in flavors:\n",
    "    for two in toppings:\n",
    "     print(one, 'topped with', two)"
   ]
  },
  {
   "cell_type": "markdown",
   "id": "37879bac-2fd3-4342-89bc-bb915ffb5b80",
   "metadata": {},
   "source": [
    "While Loop"
   ]
  },
  {
   "cell_type": "code",
   "execution_count": 97,
   "id": "2d81140f-f59b-43e5-aeef-ace02be8cb56",
   "metadata": {},
   "outputs": [
    {
     "name": "stdout",
     "output_type": "stream",
     "text": [
      "0\n",
      "1\n",
      "2\n",
      "3\n",
      "4\n"
     ]
    }
   ],
   "source": [
    "number = 0\n",
    "\n",
    "while number < 5 :\n",
    "    print(number)\n",
    "    number = number + 1"
   ]
  },
  {
   "cell_type": "code",
   "execution_count": 127,
   "id": "008f0608-da5f-4730-b9a4-3c1f3e8d1637",
   "metadata": {},
   "outputs": [
    {
     "name": "stdout",
     "output_type": "stream",
     "text": [
      "0\n",
      "1\n",
      "2\n",
      "3\n",
      "4\n",
      "5\n",
      "6\n",
      "7\n",
      "8\n",
      "9\n",
      "Greater than 10\n"
     ]
    }
   ],
   "source": [
    "number = 0\n",
    "\n",
    "while number < 10 :\n",
    "    print(number)\n",
    "    if number == 12:\n",
    "        break\n",
    "    number = number + 1\n",
    "else : \n",
    "    print('Greater than 10')\n",
    "    "
   ]
  },
  {
   "cell_type": "code",
   "execution_count": 189,
   "id": "e61b5148-3dfb-4567-b91d-98f08ff5c156",
   "metadata": {},
   "outputs": [
    {
     "name": "stdout",
     "output_type": "stream",
     "text": [
      "1\n",
      "2\n",
      "3\n",
      "4\n",
      "5\n",
      "6\n",
      "7\n",
      "9\n",
      "10\n",
      "Greater than 10\n"
     ]
    }
   ],
   "source": [
    "number = 0\n",
    "\n",
    "while number < 10:\n",
    "    number = number + 1\n",
    "    if number == 8:\n",
    "        continue\n",
    "    print(number)\n",
    "else :\n",
    "    print('Greater than 10')"
   ]
  },
  {
   "cell_type": "code",
   "execution_count": null,
   "id": "d58e95e3-0091-47d2-ad0d-3e06d0798e83",
   "metadata": {},
   "outputs": [],
   "source": []
  },
  {
   "cell_type": "code",
   "execution_count": null,
   "id": "c0dba907-03c0-4bc7-a933-996a356eee22",
   "metadata": {},
   "outputs": [],
   "source": []
  }
 ],
 "metadata": {
  "kernelspec": {
   "display_name": "Python 3 (ipykernel)",
   "language": "python",
   "name": "python3"
  },
  "language_info": {
   "codemirror_mode": {
    "name": "ipython",
    "version": 3
   },
   "file_extension": ".py",
   "mimetype": "text/x-python",
   "name": "python",
   "nbconvert_exporter": "python",
   "pygments_lexer": "ipython3",
   "version": "3.12.7"
  }
 },
 "nbformat": 4,
 "nbformat_minor": 5
}
